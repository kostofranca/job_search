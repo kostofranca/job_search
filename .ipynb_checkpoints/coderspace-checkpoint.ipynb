{
 "cells": [
  {
   "cell_type": "code",
   "execution_count": null,
   "id": "5898b04f",
   "metadata": {},
   "outputs": [],
   "source": [
    "import requests\n",
    "from bs4 import BeautifulSoup\n",
    "import pandas as pd\n",
    "from datetime import datetime"
   ]
  },
  {
   "cell_type": "code",
   "execution_count": null,
   "id": "de00cdf5",
   "metadata": {},
   "outputs": [],
   "source": [
    "coderspace = {\n",
    "    \"link\":\"https://coderspace.io/etkinlikler\",\n",
    "    \"event\":\"event-card\", # announce cards\n",
    "    \"type\":\"event-card-type\", # announce type \"Job-Bootcamp...\"\n",
    "    \"event-name\":\"primary-button\", # status\n",
    "    \"site\":\"coderspace\"\n",
    "}"
   ]
  },
  {
   "cell_type": "code",
   "execution_count": null,
   "id": "a3c08f45",
   "metadata": {},
   "outputs": [],
   "source": [
    "page = requests.get(coderspace[\"link\"])\n",
    "\n",
    "soup = BeautifulSoup(page.content, \"html.parser\")\n",
    "\n",
    "jobs = soup.find_all(\"div\", class_ = coderspace[\"event\"])"
   ]
  },
  {
   "cell_type": "code",
   "execution_count": null,
   "id": "dbc0fd52",
   "metadata": {},
   "outputs": [],
   "source": [
    "def jobListCoderspace(jobs, siteData):\n",
    "    job_list = []\n",
    "\n",
    "    for job in jobs:\n",
    "        result = {}\n",
    "\n",
    "        result[\"Type\"] = job.find(class_=siteData[\"type\"]).getText()\n",
    "        result[\"Name\"] = job.find(class_=siteData[\"event-name\"]).attrs[\"id\"]\n",
    "        result[\"Status\"] = True if job.find(class_=siteData[\"event-name\"]).getText().strip() == \"Detaylı Bilgi\" else False\n",
    "        result[\"Date\"] = job.find(\"li\").find(\"strong\").getText()\n",
    "        result[\"Site\"]=\"Coderspace\"\n",
    "\n",
    "        job_list.append(result)\n",
    "\n",
    "    return job_list"
   ]
  },
  {
   "cell_type": "code",
   "execution_count": null,
   "id": "c3b87dac",
   "metadata": {},
   "outputs": [],
   "source": [
    "df = pd.DataFrame(jobListCoderspace(jobs, coderspace))"
   ]
  },
  {
   "cell_type": "code",
   "execution_count": null,
   "id": "f9db78b6",
   "metadata": {},
   "outputs": [],
   "source": [
    "df"
   ]
  },
  {
   "cell_type": "code",
   "execution_count": null,
   "id": "ef8df4e7",
   "metadata": {},
   "outputs": [],
   "source": [
    "df.to_csv(\"csv/coderspace.csv\",index=False, header=True)"
   ]
  },
  {
   "cell_type": "code",
   "execution_count": null,
   "id": "5e9d041a",
   "metadata": {},
   "outputs": [],
   "source": [
    "df.to_csv(\"csv/jobs.csv\",index=False, header=True)"
   ]
  },
  {
   "cell_type": "code",
   "execution_count": null,
   "id": "d0afd9bf",
   "metadata": {},
   "outputs": [],
   "source": []
  }
 ],
 "metadata": {
  "kernelspec": {
   "display_name": "Python 3 (ipykernel)",
   "language": "python",
   "name": "python3"
  },
  "language_info": {
   "codemirror_mode": {
    "name": "ipython",
    "version": 3
   },
   "file_extension": ".py",
   "mimetype": "text/x-python",
   "name": "python",
   "nbconvert_exporter": "python",
   "pygments_lexer": "ipython3",
   "version": "3.10.9"
  }
 },
 "nbformat": 4,
 "nbformat_minor": 5
}
