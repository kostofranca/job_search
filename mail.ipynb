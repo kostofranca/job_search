{
 "cells": [
  {
   "cell_type": "code",
   "execution_count": 3,
   "id": "ddf1407b",
   "metadata": {},
   "outputs": [
    {
     "name": "stdout",
     "output_type": "stream",
     "text": [
      "Connecting to server...\n",
      "Connected to server :-)\n",
      "\n",
      "Sending email to - yezbalimzay@gmail.com\n",
      "Email successfully sent to - yezbalimzay@gmail.com\n"
     ]
    }
   ],
   "source": [
    "import smtplib\n",
    "import ssl\n",
    "\n",
    "# Setup port number and servr name\n",
    "\n",
    "smtp_port = 587                 # Standard secure SMTP port\n",
    "smtp_server = \"smtp.gmail.com\"  # Google SMTP Server\n",
    "\n",
    "email_from = \"ahmetkasim2@gmail.com\"\n",
    "email_to = \"yezbalimzay@gmail.com\"\n",
    "\n",
    "pswd = \"azpgifkcgwczejei\"\n",
    "\n",
    "# content of message\n",
    "\n",
    "message = \"Subject:Love\\nI love you!!! Suu mac, forever\"\n",
    "\n",
    "# Create context\n",
    "simple_email_context = ssl.create_default_context()\n",
    "\n",
    "try:\n",
    "    # Connect to the server\n",
    "    print(\"Connecting to server...\")\n",
    "    smtp = smtplib.SMTP(smtp_server, smtp_port)\n",
    "    smtp.ehlo()\n",
    "    smtp.starttls(context=simple_email_context)\n",
    "    smtp.ehlo()\n",
    "    smtp.login(email_from, pswd)\n",
    "    print(\"Connected to server :-)\")\n",
    "    \n",
    "    # Send the actual email\n",
    "    print()\n",
    "    print(f\"Sending email to - {email_to}\")\n",
    "    smtp.sendmail(email_from, email_to, message)\n",
    "    print(f\"Email successfully sent to - {email_to}\")\n",
    "\n",
    "# If there's an error, print it out\n",
    "except Exception as e:\n",
    "    print(e)\n",
    "\n",
    "# Close the port\n",
    "finally:\n",
    "    smtp.quit()\n"
   ]
  },
  {
   "cell_type": "code",
   "execution_count": null,
   "id": "a73fdce3",
   "metadata": {},
   "outputs": [],
   "source": []
  }
 ],
 "metadata": {
  "kernelspec": {
   "display_name": "Python 3 (ipykernel)",
   "language": "python",
   "name": "python3"
  },
  "language_info": {
   "codemirror_mode": {
    "name": "ipython",
    "version": 3
   },
   "file_extension": ".py",
   "mimetype": "text/x-python",
   "name": "python",
   "nbconvert_exporter": "python",
   "pygments_lexer": "ipython3",
   "version": "3.10.9"
  }
 },
 "nbformat": 4,
 "nbformat_minor": 5
}
