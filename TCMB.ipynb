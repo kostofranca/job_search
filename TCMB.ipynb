{
 "cells": [
  {
   "cell_type": "code",
   "execution_count": 1,
   "id": "469fab43",
   "metadata": {},
   "outputs": [],
   "source": [
    "import requests\n",
    "from bs4 import BeautifulSoup\n",
    "import pandas as pd\n",
    "from datetime import datetime"
   ]
  },
  {
   "cell_type": "code",
   "execution_count": 2,
   "id": "ab48a4fc",
   "metadata": {},
   "outputs": [],
   "source": [
    "tcmb={\n",
    "        \"link\":\"https://insankaynaklari.tcmb.gov.tr/\",\n",
    "        \"event\":\"block-collection-box\", # announce cards\n",
    "        \"type\":\"collection-title\", # announce type \"Job-Bootcamp...\"\n",
    "        \"event-name\":\"collection-tag\", # status\n",
    "        \"site\":\"TCMB\"\n",
    "}"
   ]
  },
  {
   "cell_type": "code",
   "execution_count": 3,
   "id": "70bee82e",
   "metadata": {},
   "outputs": [],
   "source": [
    "page = requests.get(tcmb[\"link\"])\n",
    "\n",
    "soup = BeautifulSoup(page.content, \"html.parser\")\n",
    "\n",
    "jobs = soup.find_all(\"div\", class_ = tcmb[\"event\"])"
   ]
  },
  {
   "cell_type": "code",
   "execution_count": 4,
   "id": "1db6fb47",
   "metadata": {},
   "outputs": [],
   "source": [
    "def jobListCoderspace(jobs, siteData):\n",
    "    job_list = []\n",
    "\n",
    "    # date part\n",
    "    now = datetime.today()\n",
    "    day = now.day\n",
    "    month = now.month\n",
    "    year = now.year\n",
    "    now = f\"{day:02d}/{month:02d}/{year}\"\n",
    "    date = jobs[0].find(class_=\"collection-tag\").getText()\n",
    "\n",
    "\n",
    "    for job in jobs:\n",
    "        try:\n",
    "            result = {}\n",
    "\n",
    "            date = job.find(class_=siteData[\"event-name\"]).getText()\n",
    "\n",
    "            result[\"Type\"] = job.find(class_=siteData[\"type\"]).getText()\n",
    "\n",
    "            t = job.find(class_=siteData[\"type\"]).getText()\n",
    "            result[\"Name\"] = t[:t.index(\"Yardımcı\")] + \"Yardımcısı\" if \"Yardımcı\" in t else None\n",
    "\n",
    "            result[\"Status\"] = True if job.find(class_=siteData[\"event-name\"]).getText().strip() == \"Detaylı Bilgi\" else False\n",
    "            result[\"Date\"] = date\n",
    "            result[\"Site\"]=\"TCMB\"\n",
    "\n",
    "            job_list.append(result)\n",
    "        except:\n",
    "            continue\n",
    "\n",
    "    return job_list"
   ]
  },
  {
   "cell_type": "code",
   "execution_count": 5,
   "id": "5f407c56",
   "metadata": {},
   "outputs": [],
   "source": [
    "job_list = jobListCoderspace(jobs, tcmb)"
   ]
  },
  {
   "cell_type": "code",
   "execution_count": 6,
   "id": "19501e4c",
   "metadata": {},
   "outputs": [],
   "source": [
    "df = pd.DataFrame(job_list)"
   ]
  },
  {
   "cell_type": "code",
   "execution_count": 7,
   "id": "00914379",
   "metadata": {},
   "outputs": [
    {
     "data": {
      "text/html": [
       "<div>\n",
       "<style scoped>\n",
       "    .dataframe tbody tr th:only-of-type {\n",
       "        vertical-align: middle;\n",
       "    }\n",
       "\n",
       "    .dataframe tbody tr th {\n",
       "        vertical-align: top;\n",
       "    }\n",
       "\n",
       "    .dataframe thead th {\n",
       "        text-align: right;\n",
       "    }\n",
       "</style>\n",
       "<table border=\"1\" class=\"dataframe\">\n",
       "  <thead>\n",
       "    <tr style=\"text-align: right;\">\n",
       "      <th></th>\n",
       "      <th>Type</th>\n",
       "      <th>Name</th>\n",
       "      <th>Status</th>\n",
       "      <th>Date</th>\n",
       "      <th>Site</th>\n",
       "    </tr>\n",
       "  </thead>\n",
       "  <tbody>\n",
       "    <tr>\n",
       "      <th>0</th>\n",
       "      <td>BT Müfettiş Yardımcısı Olarak Görev Yapmak Üze...</td>\n",
       "      <td>BT Müfettiş Yardımcısı</td>\n",
       "      <td>False</td>\n",
       "      <td>18/05/2023</td>\n",
       "      <td>TCMB</td>\n",
       "    </tr>\n",
       "    <tr>\n",
       "      <th>1</th>\n",
       "      <td>Bilişim Uzman Yardımcısı Olarak Görev Yapmak Ü...</td>\n",
       "      <td>Bilişim Uzman Yardımcısı</td>\n",
       "      <td>False</td>\n",
       "      <td>18/05/2023</td>\n",
       "      <td>TCMB</td>\n",
       "    </tr>\n",
       "    <tr>\n",
       "      <th>2</th>\n",
       "      <td>Türkiye Cumhuriyet Merkez Bankasına Çevirmen A...</td>\n",
       "      <td>None</td>\n",
       "      <td>False</td>\n",
       "      <td>18/05/2023</td>\n",
       "      <td>TCMB</td>\n",
       "    </tr>\n",
       "  </tbody>\n",
       "</table>\n",
       "</div>"
      ],
      "text/plain": [
       "                                                Type  \\\n",
       "0  BT Müfettiş Yardımcısı Olarak Görev Yapmak Üze...   \n",
       "1  Bilişim Uzman Yardımcısı Olarak Görev Yapmak Ü...   \n",
       "2  Türkiye Cumhuriyet Merkez Bankasına Çevirmen A...   \n",
       "\n",
       "                       Name  Status        Date  Site  \n",
       "0    BT Müfettiş Yardımcısı   False  18/05/2023  TCMB  \n",
       "1  Bilişim Uzman Yardımcısı   False  18/05/2023  TCMB  \n",
       "2                      None   False  18/05/2023  TCMB  "
      ]
     },
     "execution_count": 7,
     "metadata": {},
     "output_type": "execute_result"
    }
   ],
   "source": [
    "df"
   ]
  },
  {
   "cell_type": "code",
   "execution_count": 8,
   "id": "9d8ace46",
   "metadata": {},
   "outputs": [],
   "source": [
    "df.to_csv('csv/tcmb.csv', index=False, header=True)"
   ]
  },
  {
   "cell_type": "code",
   "execution_count": null,
   "id": "4db3721d",
   "metadata": {},
   "outputs": [],
   "source": []
  }
 ],
 "metadata": {
  "kernelspec": {
   "display_name": "Python 3 (ipykernel)",
   "language": "python",
   "name": "python3"
  },
  "language_info": {
   "codemirror_mode": {
    "name": "ipython",
    "version": 3
   },
   "file_extension": ".py",
   "mimetype": "text/x-python",
   "name": "python",
   "nbconvert_exporter": "python",
   "pygments_lexer": "ipython3",
   "version": "3.10.9"
  }
 },
 "nbformat": 4,
 "nbformat_minor": 5
}
