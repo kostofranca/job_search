{
 "cells": [
  {
   "cell_type": "code",
   "execution_count": 1,
   "id": "5898b04f",
   "metadata": {},
   "outputs": [],
   "source": [
    "import requests\n",
    "from bs4 import BeautifulSoup\n",
    "import pandas as pd\n",
    "from datetime import datetime"
   ]
  },
  {
   "cell_type": "code",
   "execution_count": 2,
   "id": "de00cdf5",
   "metadata": {},
   "outputs": [],
   "source": [
    "coderspace = {\n",
    "    \"link\":\"https://coderspace.io/etkinlikler\",\n",
    "    \"event\":\"event-card\", # announce cards\n",
    "    \"type\":\"event-card-type\", # announce type \"Job-Bootcamp...\"\n",
    "    \"event-name\":\"primary-button\", # status\n",
    "    \"site\":\"coderspace\"\n",
    "}"
   ]
  },
  {
   "cell_type": "code",
   "execution_count": 3,
   "id": "a3c08f45",
   "metadata": {},
   "outputs": [],
   "source": [
    "page = requests.get(coderspace[\"link\"])\n",
    "\n",
    "soup = BeautifulSoup(page.content, \"html.parser\")\n",
    "\n",
    "jobs = soup.find_all(\"div\", class_ = coderspace[\"event\"])"
   ]
  },
  {
   "cell_type": "code",
   "execution_count": 4,
   "id": "dbc0fd52",
   "metadata": {},
   "outputs": [],
   "source": [
    "def jobListCoderspace(jobs, siteData):\n",
    "    job_list = []\n",
    "\n",
    "    for job in jobs:\n",
    "        result = {}\n",
    "\n",
    "        result[\"Type\"] = job.find(class_=siteData[\"type\"]).getText()\n",
    "        result[\"Name\"] = job.find(class_=siteData[\"event-name\"]).attrs[\"id\"]\n",
    "        result[\"Status\"] = True if job.find(class_=siteData[\"event-name\"]).getText().strip() == \"Detaylı Bilgi\" else False\n",
    "        result[\"Date\"] = job.find(\"li\").find(\"strong\").getText()\n",
    "        result[\"Site\"]=\"Coderspace\"\n",
    "\n",
    "        job_list.append(result)\n",
    "\n",
    "    return job_list"
   ]
  },
  {
   "cell_type": "code",
   "execution_count": 5,
   "id": "c3b87dac",
   "metadata": {},
   "outputs": [],
   "source": [
    "df = pd.DataFrame(jobListCoderspace(jobs, coderspace))"
   ]
  },
  {
   "cell_type": "code",
   "execution_count": 6,
   "id": "f9db78b6",
   "metadata": {},
   "outputs": [
    {
     "data": {
      "text/html": [
       "<div>\n",
       "<style scoped>\n",
       "    .dataframe tbody tr th:only-of-type {\n",
       "        vertical-align: middle;\n",
       "    }\n",
       "\n",
       "    .dataframe tbody tr th {\n",
       "        vertical-align: top;\n",
       "    }\n",
       "\n",
       "    .dataframe thead th {\n",
       "        text-align: right;\n",
       "    }\n",
       "</style>\n",
       "<table border=\"1\" class=\"dataframe\">\n",
       "  <thead>\n",
       "    <tr style=\"text-align: right;\">\n",
       "      <th></th>\n",
       "      <th>Type</th>\n",
       "      <th>Name</th>\n",
       "      <th>Status</th>\n",
       "      <th>Date</th>\n",
       "      <th>Site</th>\n",
       "    </tr>\n",
       "  </thead>\n",
       "  <tbody>\n",
       "    <tr>\n",
       "      <th>0</th>\n",
       "      <td>Hiring Challenge</td>\n",
       "      <td>Türkiye Sigorta Hiring Challenge #3</td>\n",
       "      <td>True</td>\n",
       "      <td>8 Haziran</td>\n",
       "      <td>Coderspace</td>\n",
       "    </tr>\n",
       "    <tr>\n",
       "      <th>1</th>\n",
       "      <td>Hackathon-Datathon</td>\n",
       "      <td>Bursa Akıllı Şehir Deprem Hackathonu</td>\n",
       "      <td>True</td>\n",
       "      <td>11 Haziran</td>\n",
       "      <td>Coderspace</td>\n",
       "    </tr>\n",
       "    <tr>\n",
       "      <th>2</th>\n",
       "      <td>Meet-up</td>\n",
       "      <td>Product Management Camp</td>\n",
       "      <td>True</td>\n",
       "      <td>13 Haziran</td>\n",
       "      <td>Coderspace</td>\n",
       "    </tr>\n",
       "    <tr>\n",
       "      <th>3</th>\n",
       "      <td>Bootcamp</td>\n",
       "      <td>Akbank &amp; Microsoft AI Academy Data Analyst Eği...</td>\n",
       "      <td>False</td>\n",
       "      <td>15 Mart</td>\n",
       "      <td>Coderspace</td>\n",
       "    </tr>\n",
       "    <tr>\n",
       "      <th>4</th>\n",
       "      <td>Hackathon-Datathon</td>\n",
       "      <td>Shell Datathon 2023</td>\n",
       "      <td>False</td>\n",
       "      <td>16 Mayıs</td>\n",
       "      <td>Coderspace</td>\n",
       "    </tr>\n",
       "    <tr>\n",
       "      <th>5</th>\n",
       "      <td>Yetenek Programı</td>\n",
       "      <td>Softtech Yetenek Kuşağı</td>\n",
       "      <td>False</td>\n",
       "      <td>28 Mayıs</td>\n",
       "      <td>Coderspace</td>\n",
       "    </tr>\n",
       "  </tbody>\n",
       "</table>\n",
       "</div>"
      ],
      "text/plain": [
       "                 Type                                               Name  \\\n",
       "0    Hiring Challenge                Türkiye Sigorta Hiring Challenge #3   \n",
       "1  Hackathon-Datathon               Bursa Akıllı Şehir Deprem Hackathonu   \n",
       "2             Meet-up                            Product Management Camp   \n",
       "3            Bootcamp  Akbank & Microsoft AI Academy Data Analyst Eği...   \n",
       "4  Hackathon-Datathon                                Shell Datathon 2023   \n",
       "5    Yetenek Programı                            Softtech Yetenek Kuşağı   \n",
       "\n",
       "   Status        Date        Site  \n",
       "0    True   8 Haziran  Coderspace  \n",
       "1    True  11 Haziran  Coderspace  \n",
       "2    True  13 Haziran  Coderspace  \n",
       "3   False     15 Mart  Coderspace  \n",
       "4   False    16 Mayıs  Coderspace  \n",
       "5   False    28 Mayıs  Coderspace  "
      ]
     },
     "execution_count": 6,
     "metadata": {},
     "output_type": "execute_result"
    }
   ],
   "source": [
    "df"
   ]
  },
  {
   "cell_type": "code",
   "execution_count": 7,
   "id": "ef8df4e7",
   "metadata": {},
   "outputs": [],
   "source": [
    "df.to_csv(\"csv/coderspace.csv\",index=False, header=True)"
   ]
  },
  {
   "cell_type": "code",
   "execution_count": 8,
   "id": "5e9d041a",
   "metadata": {},
   "outputs": [],
   "source": [
    "df.to_csv(\"csv/jobs.csv\",index=False, header=True)"
   ]
  },
  {
   "cell_type": "code",
   "execution_count": null,
   "id": "d0afd9bf",
   "metadata": {},
   "outputs": [],
   "source": []
  }
 ],
 "metadata": {
  "kernelspec": {
   "display_name": "Python 3 (ipykernel)",
   "language": "python",
   "name": "python3"
  },
  "language_info": {
   "codemirror_mode": {
    "name": "ipython",
    "version": 3
   },
   "file_extension": ".py",
   "mimetype": "text/x-python",
   "name": "python",
   "nbconvert_exporter": "python",
   "pygments_lexer": "ipython3",
   "version": "3.10.9"
  }
 },
 "nbformat": 4,
 "nbformat_minor": 5
}
