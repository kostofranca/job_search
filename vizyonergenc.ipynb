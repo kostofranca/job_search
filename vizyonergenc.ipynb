{
 "cells": [
  {
   "cell_type": "code",
   "execution_count": 1,
   "id": "e1ece4ee",
   "metadata": {},
   "outputs": [],
   "source": [
    "import requests\n",
    "from bs4 import BeautifulSoup\n",
    "import pandas as pd\n",
    "from datetime import datetime"
   ]
  },
  {
   "cell_type": "code",
   "execution_count": 1,
   "id": "e750cbe7",
   "metadata": {},
   "outputs": [],
   "source": [
    "vizyon={\n",
    "            \"link\":\"https://vizyonergenc.com/ilanlar\",\n",
    "            \"link\":\"https://www.techcareer.net/\",\n",
    "            \"link\"\n",
    "            \"event\":\"job-listing\", # announce cards\n",
    "            \"type\":\"\", # announce type \"Job-Bootcamp...\"\n",
    "            \"event-name\":\"\", # status\n",
    "            \"site\":\"TCMB\"\n",
    "}"
   ]
  },
  {
   "cell_type": "code",
   "execution_count": 3,
   "id": "1f202f28",
   "metadata": {},
   "outputs": [],
   "source": [
    "page = requests.get(vizyon[\"link\"])\n",
    "\n",
    "soup = BeautifulSoup(page.content, \"html.parser\")\n",
    "\n",
    "jobs = soup.find_all(\"div\", class_ = vizyon[\"event\"])"
   ]
  },
  {
   "cell_type": "code",
   "execution_count": null,
   "id": "dee5f647",
   "metadata": {},
   "outputs": [],
   "source": []
  }
 ],
 "metadata": {
  "kernelspec": {
   "display_name": "Python 3 (ipykernel)",
   "language": "python",
   "name": "python3"
  },
  "language_info": {
   "codemirror_mode": {
    "name": "ipython",
    "version": 3
   },
   "file_extension": ".py",
   "mimetype": "text/x-python",
   "name": "python",
   "nbconvert_exporter": "python",
   "pygments_lexer": "ipython3",
   "version": "3.10.9"
  }
 },
 "nbformat": 4,
 "nbformat_minor": 5
}
